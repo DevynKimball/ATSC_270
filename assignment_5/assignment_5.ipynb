{
 "cells": [
  {
   "cell_type": "markdown",
   "id": "bd61f82f",
   "metadata": {},
   "source": [
    "# ASSIGNMENT #5 - UPPER AIR DATA #\n",
    "Due: 08 April 2024 @ 11:59p"
   ]
  },
  {
   "cell_type": "markdown",
   "id": "816b3dd4",
   "metadata": {},
   "source": [
    "Purpose:\\\n",
    "The purpose of this assignment is to first collect data from an online archive using a user-created function.  The data is then plotted on a map to continue to familiarize with plotting weather data on maps.  \n",
    "\n",
    "Overview:\\\n",
    "In this assignment you will read in rawinsonde observations in a function and plot that data.\n",
    "\n",
    "\n",
    "| | UPDATE TO YOUR INFORMATION | \n",
    "| :- | :- |\n",
    "| Created By | Devyn M. Kimball|\n",
    "| Creation Date |3 April 2024 |\n",
    "| Course | ATSC 270 - Computer Concepts in Meteorology |"
   ]
  },
  {
   "cell_type": "code",
   "execution_count": 1,
   "id": "eb870142",
   "metadata": {},
   "outputs": [],
   "source": [
    "### UPDATE TO YOUR INFORMATION ###\n",
    "#information allowing anyone with the code to print the author and contact information\n",
    "__author__    = \"Devyn M. Kimball\"\n",
    "__contact__   = \"Devyn.Kimball@und.edu\""
   ]
  },
  {
   "cell_type": "markdown",
   "id": "7dec3f1b",
   "metadata": {},
   "source": [
    "### IMPORT REQUIRED LIBRARIES ###"
   ]
  },
  {
   "cell_type": "code",
   "execution_count": 2,
   "id": "b4b5cb45",
   "metadata": {},
   "outputs": [],
   "source": [
    "import numpy as np\n",
    "from datetime import datetime\n",
    "\n",
    "from assignment_5_functions import get_raobs, select_press\n",
    "\n",
    "import metpy.calc as mpcalc\n",
    "from metpy.units import units\n",
    "from metpy.plots import StationPlot\n",
    "from metpy.interpolate import interpolate_to_grid, remove_nan_observations\n",
    "\n",
    "import matplotlib.pyplot as plt\n",
    "\n",
    "import cartopy.crs as ccrs\n",
    "import cartopy.feature as cfeature"
   ]
  },
  {
   "cell_type": "markdown",
   "id": "1df8fe8f",
   "metadata": {},
   "source": [
    "### DOWNLOAD OBSERVATIONS FROM  FILE ###\n",
    "RAwinsonde OBservations (RAOBs) are available from the Iowa State Environmental Mesonet (IEM) archive.  This data can be accessed using the siphon module.  All this will be done within the assignment_5_functions file.  Note, RAOBs don't specify latitude/longitude so we need to add it using a metpy function -> *add_station_lat_lon(data)*."
   ]
  },
  {
   "cell_type": "code",
   "execution_count": 3,
   "id": "808daf73",
   "metadata": {},
   "outputs": [
    {
     "name": "stdout",
     "output_type": "stream",
     "text": [
      "       pressure   height  temperature  dewpoint  direction  speed station  \\\n",
      "0         979.0    386.0         -4.7      -5.4       15.0    2.0    CWPL   \n",
      "1         968.0    476.0         -4.3      -7.2        NaN    NaN    CWPL   \n",
      "2         952.0    606.0         -5.5      -7.6        NaN    NaN    CWPL   \n",
      "3         951.6    609.0          NaN       NaN      355.0    5.0    CWPL   \n",
      "4         947.0    647.0         -5.5      -8.8        NaN    NaN    CWPL   \n",
      "...         ...      ...          ...       ...        ...    ...     ...   \n",
      "14695       5.9  34574.0        -45.3     -84.3        NaN    NaN    KYXY   \n",
      "14696       5.7  34747.0          NaN       NaN      145.0   15.0    KYXY   \n",
      "14697       5.4  35159.0        -48.7     -86.7        NaN    NaN    KYXY   \n",
      "14698       4.7  36076.0        -45.1     -85.1        NaN    NaN    KYXY   \n",
      "14699       4.0  37145.0        -47.3     -86.3        NaN    NaN    KYXY   \n",
      "\n",
      "            time    u_wind     v_wind  latitude  longitude  \n",
      "0     2023-12-26 -0.517638  -1.931852     51.47      -90.2  \n",
      "1     2023-12-26       NaN        NaN     51.47      -90.2  \n",
      "2     2023-12-26       NaN        NaN     51.47      -90.2  \n",
      "3     2023-12-26  0.435779  -4.980973     51.47      -90.2  \n",
      "4     2023-12-26       NaN        NaN     51.47      -90.2  \n",
      "...          ...       ...        ...       ...        ...  \n",
      "14695 2023-12-26       NaN        NaN       NaN        NaN  \n",
      "14696 2023-12-26 -8.603647  12.287281       NaN        NaN  \n",
      "14697 2023-12-26       NaN        NaN       NaN        NaN  \n",
      "14698 2023-12-26       NaN        NaN       NaN        NaN  \n",
      "14699 2023-12-26       NaN        NaN       NaN        NaN  \n",
      "\n",
      "[14700 rows x 12 columns]\n"
     ]
    }
   ],
   "source": [
    "#grab data from 00Z on 26 December 2023\n",
    "dt = datetime(2023,12,26,0)\n",
    "\n",
    "data = get_raobs(dt)\n",
    "\n",
    "print(data)"
   ]
  },
  {
   "cell_type": "markdown",
   "id": "e869f715",
   "metadata": {},
   "source": [
    "### SUBSET TO 500MB OBS ###\n",
    "We'll also do this within a function in the assignment_5_functions file."
   ]
  },
  {
   "cell_type": "code",
   "execution_count": 4,
   "id": "90ef7d36",
   "metadata": {},
   "outputs": [
    {
     "name": "stdout",
     "output_type": "stream",
     "text": [
      "       pressure  height  temperature  dewpoint  direction  speed station  \\\n",
      "35        500.0  5630.0        -20.1     -52.1      280.0   16.0    CWPL   \n",
      "177       500.0  5700.0        -20.1     -49.1      110.0    1.0    CWQI   \n",
      "307       500.0  5620.0        -16.5     -24.5      325.0   25.0    CWSE   \n",
      "451       500.0  5360.0        -20.9     -55.9      265.0  121.0    CYAH   \n",
      "574       500.0  5340.0        -27.3     -30.8      315.0   49.0    CYBK   \n",
      "...         ...     ...          ...       ...        ...    ...     ...   \n",
      "14105     500.0  5850.0         -5.9     -11.9      250.0   27.0    KVER   \n",
      "14169     500.0  5730.0        -16.3     -45.3      315.0   35.0    KWAL   \n",
      "14291     500.0  5150.0        -26.1     -27.9      150.0   37.0    KYAK   \n",
      "14451     500.0  5710.0        -15.5     -34.5      275.0   24.0    KYMW   \n",
      "14573     500.0  5230.0        -24.7     -25.4      190.0   43.0    KYXY   \n",
      "\n",
      "            time      u_wind     v_wind  latitude  longitude  \n",
      "35    2023-12-26   15.756924  -2.778371     51.47     -90.20  \n",
      "177   2023-12-26   -0.939693   0.342020       NaN        NaN  \n",
      "307   2023-12-26   14.339411 -20.478801     53.53    -114.08  \n",
      "451   2023-12-26  120.539558  10.545845     53.75     -73.67  \n",
      "574   2023-12-26   34.648232 -34.648232     64.28     -96.07  \n",
      "...          ...         ...        ...       ...        ...  \n",
      "14105 2023-12-26   25.371701   9.234544     38.95     -92.68  \n",
      "14169 2023-12-26   24.748737 -24.748737     37.93     -75.47  \n",
      "14291 2023-12-26  -18.500000  32.042940       NaN        NaN  \n",
      "14451 2023-12-26   23.908673  -2.091738       NaN        NaN  \n",
      "14573 2023-12-26    7.466872  42.346733       NaN        NaN  \n",
      "\n",
      "[106 rows x 12 columns]\n"
     ]
    }
   ],
   "source": [
    "data_500 = select_press(data,500)\n",
    "print(data_500)"
   ]
  },
  {
   "cell_type": "markdown",
   "id": "433c0828",
   "metadata": {},
   "source": [
    "### PLOT DATA MAP ###\n",
    "Use the same map of CONUS as we did for the beginning of surface obs.<br>\n",
    "No need to thin obs as there aren't a ton of RAOBs."
   ]
  },
  {
   "cell_type": "code",
   "execution_count": 14,
   "id": "bd3f91d8",
   "metadata": {},
   "outputs": [
    {
     "ename": "KeyError",
     "evalue": "'dew_point_depression'",
     "output_type": "error",
     "traceback": [
      "\u001b[0;31m---------------------------------------------------------------------------\u001b[0m",
      "\u001b[0;31mKeyError\u001b[0m                                  Traceback (most recent call last)",
      "File \u001b[0;32m~/miniconda3/envs/atsc270/lib/python3.11/site-packages/pandas/core/indexes/base.py:3791\u001b[0m, in \u001b[0;36mIndex.get_loc\u001b[0;34m(self, key)\u001b[0m\n\u001b[1;32m   3790\u001b[0m \u001b[38;5;28;01mtry\u001b[39;00m:\n\u001b[0;32m-> 3791\u001b[0m     \u001b[38;5;28;01mreturn\u001b[39;00m \u001b[38;5;28mself\u001b[39m\u001b[38;5;241m.\u001b[39m_engine\u001b[38;5;241m.\u001b[39mget_loc(casted_key)\n\u001b[1;32m   3792\u001b[0m \u001b[38;5;28;01mexcept\u001b[39;00m \u001b[38;5;167;01mKeyError\u001b[39;00m \u001b[38;5;28;01mas\u001b[39;00m err:\n",
      "File \u001b[0;32mindex.pyx:152\u001b[0m, in \u001b[0;36mpandas._libs.index.IndexEngine.get_loc\u001b[0;34m()\u001b[0m\n",
      "File \u001b[0;32mindex.pyx:181\u001b[0m, in \u001b[0;36mpandas._libs.index.IndexEngine.get_loc\u001b[0;34m()\u001b[0m\n",
      "File \u001b[0;32mpandas/_libs/hashtable_class_helper.pxi:7080\u001b[0m, in \u001b[0;36mpandas._libs.hashtable.PyObjectHashTable.get_item\u001b[0;34m()\u001b[0m\n",
      "File \u001b[0;32mpandas/_libs/hashtable_class_helper.pxi:7088\u001b[0m, in \u001b[0;36mpandas._libs.hashtable.PyObjectHashTable.get_item\u001b[0;34m()\u001b[0m\n",
      "\u001b[0;31mKeyError\u001b[0m: 'dew_point_depression'",
      "\nThe above exception was the direct cause of the following exception:\n",
      "\u001b[0;31mKeyError\u001b[0m                                  Traceback (most recent call last)",
      "Cell \u001b[0;32mIn[14], line 4\u001b[0m\n\u001b[1;32m      2\u001b[0m stationplots\u001b[38;5;241m.\u001b[39mplot_parameter((\u001b[38;5;241m-\u001b[39m\u001b[38;5;241m1\u001b[39m,\u001b[38;5;241m1\u001b[39m), data_thinned[\u001b[38;5;124m'\u001b[39m\u001b[38;5;124mtemperature\u001b[39m\u001b[38;5;124m'\u001b[39m]\u001b[38;5;241m.\u001b[39mvalues, color\u001b[38;5;241m=\u001b[39m\u001b[38;5;124m'\u001b[39m\u001b[38;5;124mred\u001b[39m\u001b[38;5;124m'\u001b[39m)\n\u001b[1;32m      3\u001b[0m \u001b[38;5;66;03m#dewpoint DEPRESSION in dark green\u001b[39;00m\n\u001b[0;32m----> 4\u001b[0m stationplots\u001b[38;5;241m.\u001b[39mplot_parameter((\u001b[38;5;241m-\u001b[39m\u001b[38;5;241m1\u001b[39m,\u001b[38;5;241m-\u001b[39m\u001b[38;5;241m1\u001b[39m), data_thinned[\u001b[38;5;124m'\u001b[39m\u001b[38;5;124mdew_point_depression\u001b[39m\u001b[38;5;124m'\u001b[39m]\u001b[38;5;241m.\u001b[39mvalues,color\u001b[38;5;241m=\u001b[39m\u001b[38;5;124m'\u001b[39m\u001b[38;5;124mdarkgreen\u001b[39m\u001b[38;5;124m'\u001b[39m)\n\u001b[1;32m      5\u001b[0m \u001b[38;5;66;03m#height (need to format to be the first 3 digits)\u001b[39;00m\n\u001b[1;32m      6\u001b[0m \n\u001b[1;32m      7\u001b[0m \u001b[38;5;66;03m#station ID in dark blue\u001b[39;00m\n\u001b[1;32m      8\u001b[0m stationplots\u001b[38;5;241m.\u001b[39mplot_text((\u001b[38;5;241m1.5\u001b[39m,\u001b[38;5;241m-\u001b[39m\u001b[38;5;241m1\u001b[39m), data_thinned[\u001b[38;5;124m'\u001b[39m\u001b[38;5;124mstation_id\u001b[39m\u001b[38;5;124m'\u001b[39m]\u001b[38;5;241m.\u001b[39mvalues, color\u001b[38;5;241m=\u001b[39m\u001b[38;5;124m'\u001b[39m\u001b[38;5;124mdarkblue\u001b[39m\u001b[38;5;124m'\u001b[39m)\n",
      "File \u001b[0;32m~/miniconda3/envs/atsc270/lib/python3.11/site-packages/pandas/core/frame.py:3893\u001b[0m, in \u001b[0;36mDataFrame.__getitem__\u001b[0;34m(self, key)\u001b[0m\n\u001b[1;32m   3891\u001b[0m \u001b[38;5;28;01mif\u001b[39;00m \u001b[38;5;28mself\u001b[39m\u001b[38;5;241m.\u001b[39mcolumns\u001b[38;5;241m.\u001b[39mnlevels \u001b[38;5;241m>\u001b[39m \u001b[38;5;241m1\u001b[39m:\n\u001b[1;32m   3892\u001b[0m     \u001b[38;5;28;01mreturn\u001b[39;00m \u001b[38;5;28mself\u001b[39m\u001b[38;5;241m.\u001b[39m_getitem_multilevel(key)\n\u001b[0;32m-> 3893\u001b[0m indexer \u001b[38;5;241m=\u001b[39m \u001b[38;5;28mself\u001b[39m\u001b[38;5;241m.\u001b[39mcolumns\u001b[38;5;241m.\u001b[39mget_loc(key)\n\u001b[1;32m   3894\u001b[0m \u001b[38;5;28;01mif\u001b[39;00m is_integer(indexer):\n\u001b[1;32m   3895\u001b[0m     indexer \u001b[38;5;241m=\u001b[39m [indexer]\n",
      "File \u001b[0;32m~/miniconda3/envs/atsc270/lib/python3.11/site-packages/pandas/core/indexes/base.py:3798\u001b[0m, in \u001b[0;36mIndex.get_loc\u001b[0;34m(self, key)\u001b[0m\n\u001b[1;32m   3793\u001b[0m     \u001b[38;5;28;01mif\u001b[39;00m \u001b[38;5;28misinstance\u001b[39m(casted_key, \u001b[38;5;28mslice\u001b[39m) \u001b[38;5;129;01mor\u001b[39;00m (\n\u001b[1;32m   3794\u001b[0m         \u001b[38;5;28misinstance\u001b[39m(casted_key, abc\u001b[38;5;241m.\u001b[39mIterable)\n\u001b[1;32m   3795\u001b[0m         \u001b[38;5;129;01mand\u001b[39;00m \u001b[38;5;28many\u001b[39m(\u001b[38;5;28misinstance\u001b[39m(x, \u001b[38;5;28mslice\u001b[39m) \u001b[38;5;28;01mfor\u001b[39;00m x \u001b[38;5;129;01min\u001b[39;00m casted_key)\n\u001b[1;32m   3796\u001b[0m     ):\n\u001b[1;32m   3797\u001b[0m         \u001b[38;5;28;01mraise\u001b[39;00m InvalidIndexError(key)\n\u001b[0;32m-> 3798\u001b[0m     \u001b[38;5;28;01mraise\u001b[39;00m \u001b[38;5;167;01mKeyError\u001b[39;00m(key) \u001b[38;5;28;01mfrom\u001b[39;00m \u001b[38;5;21;01merr\u001b[39;00m\n\u001b[1;32m   3799\u001b[0m \u001b[38;5;28;01mexcept\u001b[39;00m \u001b[38;5;167;01mTypeError\u001b[39;00m:\n\u001b[1;32m   3800\u001b[0m     \u001b[38;5;66;03m# If we have a listlike key, _check_indexing_error will raise\u001b[39;00m\n\u001b[1;32m   3801\u001b[0m     \u001b[38;5;66;03m#  InvalidIndexError. Otherwise we fall through and re-raise\u001b[39;00m\n\u001b[1;32m   3802\u001b[0m     \u001b[38;5;66;03m#  the TypeError.\u001b[39;00m\n\u001b[1;32m   3803\u001b[0m     \u001b[38;5;28mself\u001b[39m\u001b[38;5;241m.\u001b[39m_check_indexing_error(key)\n",
      "\u001b[0;31mKeyError\u001b[0m: 'dew_point_depression'"
     ]
    }
   ],
   "source": [
    "\n",
    "\n",
    "#temperature in red\n",
    "stationplots.plot_parameter((-1,1), data_thinned['temperature'].values, color='red')\n",
    "#dewpoint DEPRESSION in dark green\n",
    "stationplots.plot_parameter((-1,-1), data_thinned['dew_point_depression'].values,color='darkgreen')\n",
    "#height (need to format to be the first 3 digits)\n",
    "\n",
    "#station ID in dark blue\n",
    "stationplots.plot_text((1.5,-1), data_thinned['station_id'].values, color='darkblue')\n",
    "#wind in black\n",
    "stationplots.plot_barb(data_thinned.eastward_wind, data_thinned.northward_wind)\n",
    "#save the map as upper_air_500.png\n",
    "plt.savefig('upper_air_500.png')"
   ]
  },
  {
   "cell_type": "markdown",
   "id": "849f6f41",
   "metadata": {},
   "source": [
    "### CREATE 500mb HEIGHT CONTOURS (ISOHYPSES) ###"
   ]
  },
  {
   "cell_type": "code",
   "execution_count": null,
   "id": "77fabd62",
   "metadata": {},
   "outputs": [],
   "source": [
    "#convert the data to x, y, and z locations on the projected map\n",
    "\n",
    "#remove nans\n",
    "\n",
    "#interpolate the data to a grid\n"
   ]
  },
  {
   "cell_type": "markdown",
   "id": "eb2ab22a",
   "metadata": {},
   "source": [
    "### PLOT UPPER AIR STATION PLOTS & CONTOURS ###"
   ]
  },
  {
   "cell_type": "code",
   "execution_count": null,
   "id": "671abac0",
   "metadata": {},
   "outputs": [],
   "source": [
    "\n",
    "#temperature in red\n",
    "\n",
    "#dewpoint DEPRESSION in dark green\n",
    "\n",
    "#height (need to format to be the first 3 digits)\n",
    "\n",
    "#station ID in dark blue\n",
    "\n",
    "#wind in black\n",
    "\n",
    "\n",
    "#plot contours from 4600m to 6000m with 60m interval\n",
    "\n",
    "#add a title with the date\n",
    "\n",
    "\n",
    "#save the map as contour_500.png\n"
   ]
  },
  {
   "cell_type": "code",
   "execution_count": null,
   "id": "73508f99",
   "metadata": {},
   "outputs": [],
   "source": []
  }
 ],
 "metadata": {
  "kernelspec": {
   "display_name": "Python 3 (ipykernel)",
   "language": "python",
   "name": "python3"
  },
  "language_info": {
   "codemirror_mode": {
    "name": "ipython",
    "version": 3
   },
   "file_extension": ".py",
   "mimetype": "text/x-python",
   "name": "python",
   "nbconvert_exporter": "python",
   "pygments_lexer": "ipython3",
   "version": "3.11.7"
  }
 },
 "nbformat": 4,
 "nbformat_minor": 5
}
