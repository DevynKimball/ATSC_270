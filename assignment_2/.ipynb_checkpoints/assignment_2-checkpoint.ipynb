{
 "cells": [
  {
   "cell_type": "markdown",
   "id": "bd61f82f",
   "metadata": {},
   "source": [
    "# ASSIGNMENT #2 - ATMOSPHERIC SOUNDINGS #\n",
    "Due: 04 February 2023 @ 11:59p"
   ]
  },
  {
   "cell_type": "markdown",
   "id": "816b3dd4",
   "metadata": {},
   "source": [
    "Purpose:\\\n",
    "The purpose of this assignment is to become familiar with reading in text data, storing the data in arrays, applying metpy units, and outputting the data into easily read files.\n",
    "\n",
    "Overview:\\\n",
    "In this assignment you will read in atmospheric sounding data and apply units to the data and print the data to a text file and a comma-separated value (csv) text file.\n",
    "\n",
    "\n",
    "| | UPDATE TO YOUR INFORMATION | \n",
    "| :- | :- |\n",
    "| Created By | Devyn Kimball |\n",
    "| Creation Date | 22 January 2024 |\n",
    "| Course | ATSC 270 - Computer Concepts in Meteorology |"
   ]
  },
  {
   "cell_type": "code",
   "execution_count": 14,
   "id": "eb870142",
   "metadata": {},
   "outputs": [],
   "source": [
    "    ### UPDATE TO YOUR INFORMATION ###\n",
    "#information allowing anyone with the code to print the author and contact information\n",
    "__author__    = \"Devyn Kimball\"\n",
    "__contact__   = \"Devyn.kimball@und.edu\""
   ]
  },
  {
   "cell_type": "markdown",
   "id": "7dec3f1b",
   "metadata": {},
   "source": [
    "### IMPORT REQUIRED LIBRARIES ###"
   ]
  },
  {
   "cell_type": "code",
   "execution_count": 15,
   "id": "b4b5cb45",
   "metadata": {},
   "outputs": [],
   "source": [
    "import numpy as np\n",
    "from metpy.calc import wind_components\n",
    "from metpy.units import units\n",
    "import pandas as pd"
   ]
  },
  {
   "cell_type": "markdown",
   "id": "1df8fe8f",
   "metadata": {},
   "source": [
    "### OPEN SOUNDING FILE ###"
   ]
  },
  {
   "cell_type": "code",
   "execution_count": 16,
   "id": "2a62a4f1",
   "metadata": {},
   "outputs": [],
   "source": [
    "#open file\n",
    "sounding_file = open(\"KBIS_2009011512.txt\",\"r\").readlines()"
   ]
  },
  {
   "cell_type": "markdown",
   "id": "133b2f64",
   "metadata": {},
   "source": [
    "### READ IN DATA INTO LISTS ###"
   ]
  },
  {
   "cell_type": "code",
   "execution_count": 17,
   "id": "65907f20",
   "metadata": {},
   "outputs": [
    {
     "name": "stdout",
     "output_type": "stream",
     "text": [
      "['4', '9', '5', '5', '5', '6', '4', '5', '6', '5', '4', '6', '6', '5', '6', '5', '5', '6', '5', '4', '6', '5', '6', '6', '6', '5', '4', '5', '6', '5', '5', '4', '6', '6', '4', '6', '6', '6', '5', '4', '5', '5', '5', '6', '4', '5', '5', '5', '5', '5', '6', '5', '4', '5', '5', '5', '6', '5', '5', '4', '5', '5', '6', '4', '5', '6', '5', '6', '5', '4', '5', '6', '6', '6', '6', '4', '6', '6', '4', '5']\n"
     ]
    }
   ],
   "source": [
    "#append works best here, even though appending is bad\n",
    "#station,validUTC,levelcode,pressure_mb,height_m,tmpc,dwpc,drct,speed_kts,bearing,range_sm\n",
    "#creating empty lists to hold sounding values\n",
    "\n",
    "station = []\n",
    "UTC = []\n",
    "levelcode = []\n",
    "pressure = []\n",
    "height = []\n",
    "temp = []\n",
    "dwpc = []\n",
    "drct = []\n",
    "kts = []\n",
    "bearing = []\n",
    "range_sm = []\n",
    "#loop through each line in the sounding, skipping first line (header)\n",
    "for line in sounding_file[1:]:\n",
    "    #appending to each list variable\n",
    "    #station is the zero-th column (split by commas)\n",
    "    station.append(line.split(\",\")[0])\n",
    "    UTC.append(line.split(\",\")[1])\n",
    "    levelcode.append(line.split(\",\")[2])\n",
    "    pressure.append(line.split(\",\")[3])\n",
    "    height.append(line.split(\",\")[4])\n",
    "    temp.append(line.split(\",\")[5])\n",
    "    dwpc.append(line.split(\",\")[6])\n",
    "    drct.append(line.split(\",\")[7])\n",
    "    kts.append(line.split(\",\")[8])\n",
    "    bearing.append(line.split(\",\")[9])\n",
    "    range_sm.append(line.split(\",\")[10].strip())\n",
    "    #add rstrip() to get rid of \"\\n\" at the end of range_sm\n",
    "print(levelcode)"
   ]
  },
  {
   "cell_type": "markdown",
   "id": "be194c5e",
   "metadata": {},
   "source": [
    "### SUBSET TO MANDATORY AND SIGNIFICANT LEVELS ###\n",
    "\n",
    "#### This should remove missing data ####\n",
    "\n",
    "| Level Code | Meaning |\n",
    "| --- | :- |\n",
    "| 4 | mandatory |\n",
    "| 5 | significant |\n",
    "| 6 | wind level (PPBB) |\n",
    "| 7 | tropopause level |\n",
    "| 8 | maximum wind level |\n",
    "| 9 | surface level |"
   ]
  },
  {
   "cell_type": "code",
   "execution_count": 18,
   "id": "0095a064",
   "metadata": {},
   "outputs": [
    {
     "name": "stdout",
     "output_type": "stream",
     "text": [
      "['4', '5', '5', '5', '4', '5', '5', '4', '5', '5', '5', '5', '4', '5', '5', '4', '5', '5', '5', '4', '4', '5', '4', '5', '5', '5', '4', '5', '5', '5', '5', '5', '5', '4', '5', '5', '5', '5', '5', '4', '5', '5', '4', '5', '5', '5', '4', '5', '4', '4', '5']\n"
     ]
    }
   ],
   "source": [
    "#creating emty lists to hold values from manditory (4) and significant (5) levels\n",
    "station_subset = []\n",
    "UTC_subset = []\n",
    "levelcode_subset = []\n",
    "pressure_subset = []\n",
    "height_subset = []\n",
    "temp_subset = []\n",
    "dwpc_subset = []\n",
    "drct_subset = []\n",
    "kts_subset = []\n",
    "bearing_subset = []\n",
    "range_sm_subset = []\n",
    "\n",
    "#looping through each level in the sounding\n",
    "#to check if it's a mandatory or significant level.\n",
    "#we're doing this by looping through the indeces\n",
    "for i in range(len(levelcode)):\n",
    "    #if level code is mandatory or significant\n",
    "    if levelcode[i] == \"4\" or levelcode[i] == \"5\":\n",
    "        #add the variable t that level to each list\n",
    "        station_subset.append(station[i])\n",
    "        levelcode_subset.append(levelcode[i])\n",
    "        UTC_subset.append(UTC[i])\n",
    "        pressure_subset.append(pressure[i])\n",
    "        height_subset.append(height[i])\n",
    "        temp_subset.append(temp[i])\n",
    "        dwpc_subset.append(dwpc[i])\n",
    "        drct_subset.append(drct[i])\n",
    "        kts_subset.append(kts[i])\n",
    "        bearing_subset.append(bearing[i])\n",
    "        range_sm_subset.append(range_sm[i])\n",
    "\n",
    "print(levelcode_subset)"
   ]
  },
  {
   "cell_type": "markdown",
   "id": "0672b7d3",
   "metadata": {},
   "source": [
    "### CONVERT STRINGS ###\n",
    "Some data needs to be floating point numbers, some needs to be integers, some should stay as strings.\n",
    "\n",
    "Hint: You can leave the UTC time as a string and anything that needs NaNs will be a floating point."
   ]
  },
  {
   "cell_type": "code",
   "execution_count": 29,
   "id": "99b298a4",
   "metadata": {},
   "outputs": [],
   "source": [
    "#loop through each level in subset of 4s and 5s\n",
    "for i in range(len(levelcode_subset)):\n",
    "    #convert data from i-th level from a string to a float/int number\n",
    "    #UTC and station do not need to be conveted, strings are fine\n",
    "    levelcode_subset[i] = int(levelcode_subset[i])\n",
    "    \n",
    "    if pressure_subset[i] == \"M\":\n",
    "        pressure_subset[i] = float('NaN')\n",
    "    else:\n",
    "        pressure_subset[i] = float(pressure_subset[i])\n",
    "            \n",
    "    if UTC_subset[i] == \"M\":\n",
    "        UTC_subset[i] = float('NaN')\n",
    "    else:\n",
    "        UTC_subset[i] = (UTC_subset[i])\n",
    "\n",
    "    if height_subset[i] == \"M\":\n",
    "        height_subset[i] = float('NaN')\n",
    "    else:\n",
    "        height_subset[i] = (height_subset[i]) \n",
    "\n",
    "    if temp_subset[i] == \"M\":\n",
    "        temp_subset[i] = float('NaN')\n",
    "    else:\n",
    "        temp_subset[i] = (temp_subset[i])\n",
    "\n",
    "    if dwpc_subset[i] == \"M\":\n",
    "        dwpc_subset[i] = float('NaN')\n",
    "    else:\n",
    "        dwpc_subset[i] = (dwpc_subset[i])\n",
    "\n",
    "    if drct_subset[i] == \"M\":\n",
    "        drct_subset[i] = float('NaN')\n",
    "    else:\n",
    "        drct_subset[i] = (drct_subset[i])\n",
    "\n",
    "    if kts_subset[i] == \"M\":\n",
    "        kts_subset[i] = float('NaN')\n",
    "    else:\n",
    "        kts_subset[i] = (kts_subset[i])\n",
    "\n",
    "    if bearing_subset[i] == \"M\":\n",
    "        bearing_subset[i] = float('NaN')\n",
    "    else:\n",
    "        bearing_subset[i] = (bearing_subset[i])\n",
    "\n",
    "    if range_sm_subset[i] == \"M\":\n",
    "        range_sm_subset[i] = float('NaN')\n",
    "    else:\n",
    "        range_sm_subset[i] = (range_sm_subset[i])\n",
    "            "
   ]
  },
  {
   "cell_type": "markdown",
   "id": "550558da",
   "metadata": {},
   "source": [
    "### ADD UNITS ###\n",
    "Add units using metpy.\n",
    "\n",
    "Make sure to identify which variables need units.\n",
    "\n",
    "https://unidata.github.io/MetPy/latest/tutorials/unit_tutorial.html"
   ]
  },
  {
   "cell_type": "code",
   "execution_count": 33,
   "id": "d759caa8",
   "metadata": {},
   "outputs": [
    {
     "name": "stdout",
     "output_type": "stream",
     "text": [
      "3.2 meter / second\n"
     ]
    },
    {
     "ename": "NameError",
     "evalue": "name 'index' is not defined",
     "output_type": "error",
     "traceback": [
      "\u001b[0;31m---------------------------------------------------------------------------\u001b[0m",
      "\u001b[0;31mNameError\u001b[0m                                 Traceback (most recent call last)",
      "Cell \u001b[0;32mIn[33], line 5\u001b[0m\n\u001b[1;32m      2\u001b[0m v \u001b[38;5;241m=\u001b[39m v\u001b[38;5;241m*\u001b[39munits (\u001b[38;5;124m'\u001b[39m\u001b[38;5;124mm/s\u001b[39m\u001b[38;5;124m'\u001b[39m)\n\u001b[1;32m      3\u001b[0m \u001b[38;5;28mprint\u001b[39m(v)\n\u001b[0;32m----> 5\u001b[0m pressure_subset[index] \u001b[38;5;241m=\u001b[39m pressure_subset \u001b[38;5;241m*\u001b[39m units(\u001b[38;5;124m'\u001b[39m\u001b[38;5;124mmillibar\u001b[39m\u001b[38;5;124m'\u001b[39m)\n\u001b[1;32m      6\u001b[0m height_subset[index] \u001b[38;5;241m=\u001b[39m height_subset \u001b[38;5;241m*\u001b[39m units(\u001b[38;5;124m'\u001b[39m\u001b[38;5;124mmeters\u001b[39m\u001b[38;5;124m'\u001b[39m)\n\u001b[1;32m      7\u001b[0m drct_subset[index] \u001b[38;5;241m=\u001b[39m drct_subset \u001b[38;5;241m*\u001b[39m units(\u001b[38;5;124m'\u001b[39m\u001b[38;5;124mdegrees\u001b[39m\u001b[38;5;124m'\u001b[39m)\n",
      "\u001b[0;31mNameError\u001b[0m: name 'index' is not defined"
     ]
    }
   ],
   "source": [
    "v = 3.2 #m/s \n",
    "v = v*units ('m/s')\n",
    "print(v)\n",
    "\n",
    "pressure_subset[index] = pressure_subset * units('millibar')\n",
    "height_subset[index] = height_subset * units('meters')\n",
    "drct_subset[index] = drct_subset * units('degrees')\n",
    "kts_subset[index] = kts_subset * units('knots')\n",
    "temp__subset[index] = temp_subset * units.degC\n",
    "dwpc__subset[index] = dwpc_subset * units.degC\n",
    "bearing_subset[index] = bearing_subset * units('degree')\n",
    "range_sm_subset[index] = range_sm_subset * units('miles')\n",
    "\n"
   ]
  },
  {
   "cell_type": "markdown",
   "id": "2de14125",
   "metadata": {},
   "source": [
    "### CONVERT WINDS TO U,V COMPONENTS ###\n",
    "For this, we will be using the metpy.calc.wind_components() function.  This has been imported as wind_components(). \n",
    "\n",
    "https://unidata.github.io/MetPy/latest/api/generated/metpy.calc.wind_components.html\n",
    "\n",
    "Please see the website above to understand how this function works."
   ]
  },
  {
   "cell_type": "code",
   "execution_count": null,
   "id": "f439cc83",
   "metadata": {},
   "outputs": [],
   "source": []
  },
  {
   "cell_type": "markdown",
   "id": "1a8467cf",
   "metadata": {},
   "source": [
    "### CONVERT U,V WINDS TO M/S ###"
   ]
  },
  {
   "cell_type": "code",
   "execution_count": null,
   "id": "9ba4b1b9",
   "metadata": {},
   "outputs": [],
   "source": []
  },
  {
   "cell_type": "markdown",
   "id": "b93037f8",
   "metadata": {},
   "source": [
    "### PRINT DATA ###\n",
    "Print the sounding location and the time of the sounding.\n",
    "\n",
    "Then for each 4 or 5 level-code level, print the pressure (in mb), height (in meters), temperature (in degrees Celsius), dewpoint temperature (in degrees Celsius), u and v wind components (in m/s) with commas separating each value.  Make sure to include units."
   ]
  },
  {
   "cell_type": "code",
   "execution_count": null,
   "id": "5d171fd1",
   "metadata": {},
   "outputs": [],
   "source": []
  },
  {
   "cell_type": "markdown",
   "id": "4217c837",
   "metadata": {},
   "source": [
    "### SAVE TO CSV FILE ###\n",
    "Save to CSV without units.  The CSV file should be named KBIS_sounding.csv. Include the following header:\n",
    "\n",
    "{STATION} - {VALID UTC}<br>\n",
    "pressure[mb],height[m],temperature[degC],dewpoint[degC],u-wind[m/s],v-wind[m/s]\n",
    "\n",
    "Make sure that the winds are limited to 2 decimal places."
   ]
  },
  {
   "cell_type": "code",
   "execution_count": null,
   "id": "0a123e09",
   "metadata": {},
   "outputs": [],
   "source": []
  },
  {
   "cell_type": "markdown",
   "id": "cccc9432",
   "metadata": {},
   "source": [
    "### OPEN THE CSV FILE IN NUMPY ###\n",
    "\n",
    "Here, we are going to use the numpy genfromtxt() function - np.genfromtxt()\n",
    "\n",
    "https://numpy.org/doc/stable/reference/generated/numpy.genfromtxt.html\n",
    "\n",
    "use the names press,height,temp,dwpt,u,v"
   ]
  },
  {
   "cell_type": "code",
   "execution_count": null,
   "id": "0db560cc",
   "metadata": {},
   "outputs": [],
   "source": []
  },
  {
   "cell_type": "markdown",
   "id": "717119e8",
   "metadata": {},
   "source": [
    "### RUN THE CELL BELOW ###\n",
    "If the code above was correct, it should print out the pressure as an array, then temperature as an array, and finally, u-wind component as an array - all with units.\n",
    "\n",
    "Note that the units are now outside the array instead of applied to each element as they were in the list."
   ]
  },
  {
   "cell_type": "code",
   "execution_count": null,
   "id": "2d50731a",
   "metadata": {},
   "outputs": [],
   "source": []
  },
  {
   "cell_type": "markdown",
   "id": "c73a0ad7",
   "metadata": {},
   "source": [
    "### OPEN THE CSV FILE IN PANDAS ###\n",
    "Now we are going to open the CSV file into a pandas dataframe.\n",
    "\n",
    "Dataframes are somewhat like arrays but a bit more complicated.\n",
    "\n",
    "Here, we will use the pandas.read_csv() function - pd.read_csv()\n",
    "\n",
    "Use the same names as above.\n",
    "\n",
    "https://pandas.pydata.org/docs/reference/api/pandas.read_csv.html"
   ]
  },
  {
   "cell_type": "code",
   "execution_count": null,
   "id": "3299a386",
   "metadata": {},
   "outputs": [],
   "source": []
  },
  {
   "cell_type": "markdown",
   "id": "6eeb0151",
   "metadata": {},
   "source": [
    "### NOW PRINT THE DATAFRAME ###\n",
    "If done correctly, you should see the column names auto-populated."
   ]
  },
  {
   "cell_type": "code",
   "execution_count": null,
   "id": "f053bec3",
   "metadata": {},
   "outputs": [],
   "source": []
  }
 ],
 "metadata": {
  "kernelspec": {
   "display_name": "Python 3 (ipykernel)",
   "language": "python",
   "name": "python3"
  },
  "language_info": {
   "codemirror_mode": {
    "name": "ipython",
    "version": 3
   },
   "file_extension": ".py",
   "mimetype": "text/x-python",
   "name": "python",
   "nbconvert_exporter": "python",
   "pygments_lexer": "ipython3",
   "version": "3.11.7"
  }
 },
 "nbformat": 4,
 "nbformat_minor": 5
}
